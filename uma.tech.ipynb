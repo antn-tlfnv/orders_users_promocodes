{
 "cells": [
  {
   "cell_type": "markdown",
   "metadata": {},
   "source": [
    "## Questions\n",
    "Your task is to answer the following questions:<br>\n",
    "a. How to properly evaluate the performance of affiliates from perspective of our company?<br>\n",
    "b. Which affiliates are not profitable? Which affiliates should we continue to work with?\n"
   ]
  },
  {
   "cell_type": "markdown",
   "metadata": {},
   "source": [
    "## Summary: \n",
    "\n",
    "1) We have 2 top affiliates with user ids <b>a3ae3125fe</b> and <b>a12f7b9ea8</b>. \n",
    "They brought us 1 050 221.63 RUB and 962 876.45 RUB respectively. These 2 affiliates covered ~31% of the whole income.\n",
    "\n",
    "2) There are 9 affiliates which brought ~53% of the whole income, user_ids for these affiliates are:\n",
    "- <b>e8b0a5f539</b>\n",
    "- <b>ce913ea790</b>\n",
    "- <b>a8f9e6bfe7</b>\n",
    "- <b>a12f7b9ea8</b>\n",
    "- <b>5f745a74ea</b>\n",
    "- <b>c52d9139a2</b>\n",
    "- <b>3edee82c4b</b>\n",
    "- <b>a3ae3125fe</b>\n",
    "- <b>f0e3b2548a</b>\n",
    "\n",
    "3) If we talk about efficiency of each affiliate, we can take a look at mean order price of  each affilate. \n",
    "The greatest mean_order price has affiliate with id <b>f4cdfaf3a7</b>. \n",
    "But this affiliate made only one order and it tells us almost nothing about its behaviour.\n",
    "\n",
    "The affiliate with id <b>c52d9139a2</b> made 78 orders and its mean order price almost the highest among all other affiliates. So we can assume that if we stimulate this affiliate making more orders it will be the most efficient way to increase our income. \n",
    "\n",
    "4) \"The worst\" affiliates for us, which are not profitable and even generate loss for us, are those with the following ids: \n",
    "- <b>020d1cb3a9</b>\n",
    "- <b>321c56f428</b>\n",
    "- <b>00143ea850</b>\n",
    "\n",
    "<b> Further possible steps to implement: </b>\n",
    "- devide all affiliates in different categories according to their behaviour (mean time between their orders, orders amount, orders prices etc) by applying KMeans method.\n",
    "- generate a script which will help us make predictions whether a new user will be \"super efficient\" or not profitable for us according to a data we get about him during the first several orders. It can be implemented by using Random Forsets.\n"
   ]
  },
  {
   "cell_type": "markdown",
   "metadata": {},
   "source": [
    "## Code"
   ]
  },
  {
   "cell_type": "code",
   "execution_count": 1,
   "metadata": {},
   "outputs": [],
   "source": [
    "import pandas as pd"
   ]
  },
  {
   "cell_type": "code",
   "execution_count": null,
   "metadata": {},
   "outputs": [],
   "source": [
    "orders = pd.read_csv('data/orders_task3.csv')\n",
    "promocodes = pd.read_csv('data/promocodes_task3.csv')\n",
    "users = pd.read_csv('data/users_task3.csv')"
   ]
  },
  {
   "cell_type": "code",
   "execution_count": null,
   "metadata": {},
   "outputs": [],
   "source": [
    "orders.head()"
   ]
  },
  {
   "cell_type": "code",
   "execution_count": null,
   "metadata": {},
   "outputs": [],
   "source": [
    "promocodes.head()"
   ]
  },
  {
   "cell_type": "code",
   "execution_count": null,
   "metadata": {},
   "outputs": [],
   "source": [
    "users.head()"
   ]
  },
  {
   "cell_type": "code",
   "execution_count": null,
   "metadata": {},
   "outputs": [],
   "source": [
    "users.roles.unique()"
   ]
  },
  {
   "cell_type": "code",
   "execution_count": null,
   "metadata": {
    "scrolled": true
   },
   "outputs": [],
   "source": [
    "# create a df we are going to work with, this df will include only user_ids with 'affiliate' role\n",
    "\n",
    "df = users[users.roles == \"['affiliate']\"].drop(['roles', 'utm_c'], axis=1)"
   ]
  },
  {
   "cell_type": "code",
   "execution_count": null,
   "metadata": {},
   "outputs": [],
   "source": [
    "df.head()"
   ]
  },
  {
   "cell_type": "code",
   "execution_count": null,
   "metadata": {},
   "outputs": [],
   "source": [
    "# create a df with orders summary for every user_id\n",
    "\n",
    "orders_summary = orders.groupby('user_id').agg({\n",
    "        'price': 'sum',\n",
    "        'credit': 'sum',\n",
    "        'to_pay': 'sum',\n",
    "        'order_id': 'count'\n",
    "    }).reset_index() \\\n",
    "      .rename(columns={\n",
    "        'price': 'total_price',\n",
    "        'credit': 'total_credit',\n",
    "        'to_pay': 'total_to_pay',\n",
    "        'order_id': 'orders'\n",
    "    })"
   ]
  },
  {
   "cell_type": "code",
   "execution_count": null,
   "metadata": {},
   "outputs": [],
   "source": [
    "orders_summary.head()"
   ]
  },
  {
   "cell_type": "code",
   "execution_count": null,
   "metadata": {},
   "outputs": [],
   "source": [
    "# merging df and orders_summary (we'll use left join in order not to lose user_ids \n",
    "# which are not presented in orders_summary)\n",
    "\n",
    "df = df.merge(orders_summary, on='user_id', how='left')"
   ]
  },
  {
   "cell_type": "code",
   "execution_count": null,
   "metadata": {},
   "outputs": [],
   "source": [
    "df.head()"
   ]
  },
  {
   "cell_type": "code",
   "execution_count": null,
   "metadata": {},
   "outputs": [],
   "source": [
    "# checking NA values\n",
    "\n",
    "df[df.total_price.isna() == True]"
   ]
  },
  {
   "cell_type": "code",
   "execution_count": null,
   "metadata": {},
   "outputs": [],
   "source": [
    "# dropping NA values\n",
    "\n",
    "df = df.dropna()"
   ]
  },
  {
   "cell_type": "code",
   "execution_count": null,
   "metadata": {},
   "outputs": [],
   "source": [
    "# rounding total_price to 2 decimal places and mapping int function to every order\n",
    "\n",
    "df.total_price = df.total_price.round(2)\n",
    "df.orders = df.orders.map(int)"
   ]
  },
  {
   "cell_type": "code",
   "execution_count": null,
   "metadata": {},
   "outputs": [],
   "source": [
    "# adding total_clean_price columns \n",
    "# which is the result of total_price - total_credit - total_to_pay\n",
    "\n",
    "df['total_clean_price'] = df.total_price - df.total_credit - df.total_to_pay\n",
    "\n",
    "# adding mean_order_price which represents the mean price for order for each user\n",
    "\n",
    "df['mean_order_price'] = df.total_clean_price / df.orders"
   ]
  },
  {
   "cell_type": "markdown",
   "metadata": {},
   "source": [
    "Now, since we have total_clean_price column, we will pay attention to it and hence we don't neen columns total_price, total_credit, total_to_pay, let's remove them:"
   ]
  },
  {
   "cell_type": "code",
   "execution_count": null,
   "metadata": {},
   "outputs": [],
   "source": [
    "df = df.drop(['total_price', 'total_credit', 'total_to_pay'], axis=1)"
   ]
  },
  {
   "cell_type": "markdown",
   "metadata": {},
   "source": [
    "Now let's add a column 'impact', which will represent the impact of every user's total_clean_price on the global total clean price:"
   ]
  },
  {
   "cell_type": "code",
   "execution_count": null,
   "metadata": {},
   "outputs": [],
   "source": [
    "df['impact'] = ((df.total_clean_price/df.total_clean_price.sum())*100)"
   ]
  },
  {
   "cell_type": "code",
   "execution_count": null,
   "metadata": {},
   "outputs": [],
   "source": [
    "# sorting values by 'total_clean_price'\n",
    "\n",
    "df.sort_values(by='total_clean_price', ascending=False)"
   ]
  },
  {
   "cell_type": "code",
   "execution_count": null,
   "metadata": {},
   "outputs": [],
   "source": [
    "df[df.impact > 2]"
   ]
  },
  {
   "cell_type": "code",
   "execution_count": null,
   "metadata": {},
   "outputs": [],
   "source": [
    "# sum of impact of affiliates, that brought more than 2% of total impact\n",
    "\n",
    "df.impact[df.impact > 2].sum()"
   ]
  },
  {
   "cell_type": "code",
   "execution_count": null,
   "metadata": {},
   "outputs": [],
   "source": [
    "df.total_clean_price.hist(bins=50)"
   ]
  },
  {
   "cell_type": "markdown",
   "metadata": {},
   "source": [
    "As we can see from the histogram and df above, we have 2 top affiliates with user ids <b>a3ae3125fe</b> and <b>a12f7b9ea8</b>. They brought us 1 050 221.63 RUB and 962 876.45 RUB respectively. These 2 affiliates covered ~31% of income.\n",
    "\n",
    "There are 9 affiliates which brought ~53% of the whole income, user_ids for theses affiliates are:\n"
   ]
  },
  {
   "cell_type": "code",
   "execution_count": null,
   "metadata": {},
   "outputs": [],
   "source": [
    "df.user_id[df.impact > 2].to_frame()"
   ]
  },
  {
   "cell_type": "code",
   "execution_count": null,
   "metadata": {
    "scrolled": true
   },
   "outputs": [],
   "source": [
    "# sorting values by 'total_clean_price'\n",
    "\n",
    "df.sort_values(by='mean_order_price', ascending=False)"
   ]
  },
  {
   "cell_type": "markdown",
   "metadata": {},
   "source": [
    "If we talk about efficiency of each affiliate, we can look at mean_order_price column. \n",
    "It represents the mean order price brought by each user. \n",
    "\n",
    "As we can see from df above, the greatest mean_order price has user with id <b>f4cdfaf3a7</b>. \n",
    "But this user made only one order and it tells us almost nothing about his behaviour.\n",
    "\n",
    "If we look at the user with id <b>c52d9139a2</b> we see that he made 78 orders and his mean order price almost the highest among all other users. So we can assume that if we stimulate him making more orders it will be the most efficient way to increase our income. \n",
    "\n",
    "\"The worst\" affiliates for us, which are not profitable and even generate loss for us, are those with the following ids: \n",
    "- <b>020d1cb3a9</b>\n",
    "- <b>321c56f428</b>\n",
    "- <b>00143ea850</b>\n",
    "\n"
   ]
  },
  {
   "cell_type": "markdown",
   "metadata": {},
   "source": [
    "### Further possble steps to implement: \n",
    "- devide all affiliates in different categories according to their behaviour (mean time between their orders, orders amount, orders prices etc) by applying KMeans method. \n",
    "- generate a script which will help us make predictions whether a new user will be \"super efficient\" or not profitable for us according to a data we get about him during the first several orders. It can be implemented by using Random Forsets. "
   ]
  }
 ],
 "metadata": {
  "kernelspec": {
   "display_name": "Python 3",
   "language": "python",
   "name": "python3"
  },
  "language_info": {
   "codemirror_mode": {
    "name": "ipython",
    "version": 3
   },
   "file_extension": ".py",
   "mimetype": "text/x-python",
   "name": "python",
   "nbconvert_exporter": "python",
   "pygments_lexer": "ipython3",
   "version": "3.7.7"
  },
  "toc": {
   "base_numbering": 1,
   "nav_menu": {},
   "number_sections": true,
   "sideBar": true,
   "skip_h1_title": false,
   "title_cell": "Table of Contents",
   "title_sidebar": "Contents",
   "toc_cell": false,
   "toc_position": {},
   "toc_section_display": true,
   "toc_window_display": false
  },
  "varInspector": {
   "cols": {
    "lenName": 16,
    "lenType": 16,
    "lenVar": 40
   },
   "kernels_config": {
    "python": {
     "delete_cmd_postfix": "",
     "delete_cmd_prefix": "del ",
     "library": "var_list.py",
     "varRefreshCmd": "print(var_dic_list())"
    },
    "r": {
     "delete_cmd_postfix": ") ",
     "delete_cmd_prefix": "rm(",
     "library": "var_list.r",
     "varRefreshCmd": "cat(var_dic_list()) "
    }
   },
   "types_to_exclude": [
    "module",
    "function",
    "builtin_function_or_method",
    "instance",
    "_Feature"
   ],
   "window_display": false
  }
 },
 "nbformat": 4,
 "nbformat_minor": 4
}
